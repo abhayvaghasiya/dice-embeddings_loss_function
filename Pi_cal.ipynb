{
 "cells": [
  {
   "cell_type": "code",
   "execution_count": 3,
   "metadata": {},
   "outputs": [
    {
     "name": "stdout",
     "output_type": "stream",
     "text": [
      "Details including head, relation, tail, and transformed proportion have been saved to head_relation_tail_proportion.txt\n"
     ]
    }
   ],
   "source": [
    "import pandas as pd\n",
    "\n",
    "# Load the data from the text file into a DataFrame\n",
    "data = pd.read_csv('/Users/abhayvaghasiya/Desktop/WORK/UMLS/train.txt', header=None, sep='\\t', names=['Head', 'Relation', 'Tail'])\n",
    "\n",
    "# Calculate the total counts of each relation in the dataset\n",
    "relation_counts = data['Relation'].value_counts()\n",
    "\n",
    "# Open a file to write the output\n",
    "with open('/Users/abhayvaghasiya/Desktop/WORK/Without_coppel_Pi_score/UMLS/head_relation_tail_proportion.txt', 'w') as file:\n",
    "    # Iterate through each tuple in the DataFrame\n",
    "    for index, row in data.iterrows():\n",
    "        # Count how many tuples have the same relation and tail\n",
    "        count_relation_tail = ((data['Relation'] == row['Relation']) & (data['Tail'] == row['Tail'])).sum()\n",
    "        # Retrieve the total count of the relation\n",
    "        total_relation_count = relation_counts[row['Relation']]\n",
    "        # Calculate the proportion\n",
    "        proportion = count_relation_tail / total_relation_count\n",
    "        # Apply the transformation to the proportion\n",
    "        transformed_proportion = 0.9 + 0.1 * proportion\n",
    "        # Format and write the tuple and its transformed proportion to the file\n",
    "        file.write(f\"{row['Head']}\\t{row['Relation']}\\t{row['Tail']}\\t{transformed_proportion:.9f}\\n\")\n",
    "\n",
    "# Print a confirmation message\n",
    "print(\"Details including head, relation, tail, and transformed proportion have been saved to head_relation_tail_proportion.txt\")\n"
   ]
  }
 ],
 "metadata": {
  "kernelspec": {
   "display_name": "Python 3",
   "language": "python",
   "name": "python3"
  },
  "language_info": {
   "codemirror_mode": {
    "name": "ipython",
    "version": 3
   },
   "file_extension": ".py",
   "mimetype": "text/x-python",
   "name": "python",
   "nbconvert_exporter": "python",
   "pygments_lexer": "ipython3",
   "version": "3.10.4"
  }
 },
 "nbformat": 4,
 "nbformat_minor": 2
}
