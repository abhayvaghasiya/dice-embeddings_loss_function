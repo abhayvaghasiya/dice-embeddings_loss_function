{
 "cells": [
  {
   "cell_type": "code",
   "execution_count": null,
   "metadata": {},
   "outputs": [],
   "source": [
    "from sklearn.preprocessing import MinMaxScaler\n",
    "import numpy as np\n",
    "\n",
    "# Define the path to the input and output files\n",
    "input_file_path = '/Users/abhayvaghasiya/Desktop/WORK/UMLS_new_train/scores.txt'\n",
    "output_file_path = '/Users/abhayvaghasiya/Desktop/WORK/UMLS_new_train/scores_modified_2.txt'\n",
    "\n",
    "# Read the scores from the file\n",
    "with open(input_file_path, 'r') as file:\n",
    "    scores = np.array([float(line.strip()) for line in file]).reshape(-1, 1)\n",
    "\n",
    "# Initialize MinMaxScaler with the desired range\n",
    "scaler = MinMaxScaler(feature_range=(0.1, 0.9))\n",
    "\n",
    "# Fit the scaler and transform the scores\n",
    "scaled_scores = scaler.fit_transform(scores)\n",
    "\n",
    "# Flatten the array for easier saving\n",
    "scaled_scores = scaled_scores.flatten()\n",
    "\n",
    "# Write the scaled scores to the output file\n",
    "with open(output_file_path, 'w') as file:\n",
    "    for score in scaled_scores:\n",
    "        file.write(f\"{score}\\n\")\n",
    "\n",
    "print(f\"Scaled scores have been saved to: {output_file_path}\")\n"
   ]
  },
  {
   "cell_type": "code",
   "execution_count": null,
   "metadata": {},
   "outputs": [],
   "source": [
    "# Import necessary library\n",
    "import pandas as pd\n",
    "\n",
    "# Load the data from the text file into a DataFrame\n",
    "data = pd.read_csv('KGs/UMLS/train.txt', header=None, sep='\\t', names=['Head', 'Relation', 'Tail'])\n",
    "\n",
    "# Prepare a list to store counts\n",
    "counts = []\n",
    "\n",
    "# Iterate through each tuple in the DataFrame\n",
    "for index, row in data.iterrows():\n",
    "    # Count how many tuples have the same relation and tail\n",
    "    count = ((data['Relation'] == row['Relation']) & (data['Tail'] == row['Tail'])).sum()\n",
    "    # Append the count to the list\n",
    "    counts.append(count)\n",
    "\n",
    "# Create a new DataFrame from the counts\n",
    "counts_df = pd.DataFrame(counts, columns=['Count'])\n",
    "\n",
    "# Save the counts DataFrame to a new text file\n",
    "counts_df.to_csv('KGs/UMLS/counts.txt', index=False, header=False)\n",
    "\n",
    "# Print a confirmation message\n",
    "print(\"Counts have been saved to counts.txt\")\n"
   ]
  }
 ],
 "metadata": {
  "language_info": {
   "name": "python"
  }
 },
 "nbformat": 4,
 "nbformat_minor": 2
}
